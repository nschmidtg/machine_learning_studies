{
 "cells": [
  {
   "cell_type": "code",
   "execution_count": 1,
   "metadata": {},
   "outputs": [],
   "source": [
    "import pandas as pd\n",
    "import numpy as np"
   ]
  },
  {
   "cell_type": "code",
   "execution_count": 2,
   "metadata": {},
   "outputs": [
    {
     "data": {
      "text/plain": [
       "array([ 0.70106478,  5.83257487,  4.21157511,  4.06277439,  3.74595488,\n",
       "        2.00215981,  4.99802637,  7.12765811,  7.69279916,  6.30415748,\n",
       "        2.33600657,  3.46058987, -0.82820366,  0.33495333,  0.33590402,\n",
       "        3.15650049,  1.56797227, -3.24052287,  3.44581966, -0.27996089,\n",
       "        2.5976606 ,  5.66760452,  1.52705504,  0.38655502,  0.3241113 ,\n",
       "        5.04805075,  1.80636499,  1.39094301,  3.64310855,  2.60022985,\n",
       "        3.84232247,  3.79065125,  2.64074548,  6.43575343,  1.19472256,\n",
       "        3.33200313,  3.46172261, -2.1210614 ,  6.36767084,  1.03746279,\n",
       "        1.1015618 ,  3.64794232, -0.11209777,  0.6407681 ,  4.04001   ,\n",
       "        1.54178376, -0.43510407,  4.0145666 ,  4.16447169, -2.30896848,\n",
       "        5.50660355, -2.02919701,  5.635932  ,  1.29309427,  0.67419772,\n",
       "       -0.12865833,  1.32509515,  4.13396208,  0.70131097,  0.90497079,\n",
       "        2.44801904,  3.05750475,  1.09868302, -0.81068558,  4.96005765,\n",
       "        0.44697475, -3.75905724,  1.61845305,  3.80967723, -4.36650319,\n",
       "        1.16875748,  3.88465753,  3.0031    ,  0.65323075,  5.86781975,\n",
       "        0.8344571 ,  0.48017655, -1.83708732,  0.14473034,  3.60176732,\n",
       "        1.66662944,  5.48365333,  0.13637922, -0.29151834,  1.86850095,\n",
       "       -0.8700716 , -0.16275654,  1.7141995 , -2.67991676,  0.17603712,\n",
       "       -0.52018492,  0.5449805 ,  1.9795289 ,  2.54754582,  1.86864917,\n",
       "        3.74860722,  4.27501174,  3.94238003,  0.93782837,  3.59754863])"
      ]
     },
     "execution_count": 2,
     "metadata": {},
     "output_type": "execute_result"
    }
   ],
   "source": [
    "x = 1.5 + 2.5 * np.random.randn(100)\n",
    "x"
   ]
  },
  {
   "cell_type": "code",
   "execution_count": 3,
   "metadata": {},
   "outputs": [],
   "source": [
    "res = 0 + 0.8 * np.random.randn(100)\n",
    "y_pred = 5 + 1.9 * x\n",
    "y_act = 5 + 1.9 * x + res\n",
    "x_list = x.tolist()\n",
    "y_pred_list = y_pred.tolist()\n",
    "y_act_list = y_act.tolist()"
   ]
  },
  {
   "cell_type": "code",
   "execution_count": 4,
   "metadata": {
    "scrolled": true
   },
   "outputs": [
    {
     "data": {
      "text/plain": [
       "[6.064280311014622,\n",
       " 16.093577392174534,\n",
       " 12.784051938777637,\n",
       " 12.99408145303752,\n",
       " 10.971220383112566,\n",
       " 8.68411674791119,\n",
       " 13.066459947759013,\n",
       " 18.08700533519476,\n",
       " 20.51008714552151,\n",
       " 15.736310041290478,\n",
       " 10.157852766138681,\n",
       " 11.796652928662782,\n",
       " 2.4989524866561417,\n",
       " 4.975949466413117,\n",
       " 7.436844152397653,\n",
       " 10.95383628475171,\n",
       " 7.662182011496829,\n",
       " -1.169180862565835,\n",
       " 11.545039863267002,\n",
       " 2.5681088410065973,\n",
       " 9.713071495650912,\n",
       " 15.976860828571507,\n",
       " 7.060228528256104,\n",
       " 5.072916541286877,\n",
       " 5.637131457953726,\n",
       " 14.745030846011275,\n",
       " 9.32014313275872,\n",
       " 8.749338584507408,\n",
       " 12.380660847352166,\n",
       " 10.545792905060067,\n",
       " 12.720097537839987,\n",
       " 10.593328567056773,\n",
       " 9.5251213585168,\n",
       " 17.235589016951515,\n",
       " 8.392776887786267,\n",
       " 11.518542609471918,\n",
       " 10.82605060603337,\n",
       " 1.2120834633020672,\n",
       " 16.593998739795712,\n",
       " 6.754482660790875,\n",
       " 7.281931331304894,\n",
       " 13.37406233026096,\n",
       " 4.994934326974609,\n",
       " 5.634557454610456,\n",
       " 13.570032500826942,\n",
       " 9.459114882095848,\n",
       " 3.828757217372287,\n",
       " 13.5167975047872,\n",
       " 13.337998882942584,\n",
       " 0.07828560402151796,\n",
       " 15.023255285633708,\n",
       " 0.866182426402492,\n",
       " 15.716862424603669,\n",
       " 8.366757176706754,\n",
       " 5.971483083408796,\n",
       " 5.784961281176994,\n",
       " 7.267158219150215,\n",
       " 12.68775882795115,\n",
       " 5.458531980358515,\n",
       " 5.168026979059348,\n",
       " 10.82482144504765,\n",
       " 11.771181422024533,\n",
       " 7.398889317824811,\n",
       " 4.012164707472083,\n",
       " 14.165120750786949,\n",
       " 5.151368373883839,\n",
       " -1.0558180726579613,\n",
       " 7.920516086040358,\n",
       " 12.792599316085422,\n",
       " -2.1590641901806036,\n",
       " 7.927182757297195,\n",
       " 13.861979943811278,\n",
       " 12.239782904207683,\n",
       " 6.1902279752954135,\n",
       " 15.583443843935218,\n",
       " 6.721036049398249,\n",
       " 5.89422618450115,\n",
       " 0.8876933139726523,\n",
       " 4.930132787488381,\n",
       " 14.34387138747598,\n",
       " 8.057657270605993,\n",
       " 16.02556348297771,\n",
       " 4.861693865207443,\n",
       " 5.251761676690204,\n",
       " 10.591364176702132,\n",
       " 3.505422133319523,\n",
       " 5.223259930066384,\n",
       " 7.863893023211865,\n",
       " 0.39749752475410177,\n",
       " 6.03316110948005,\n",
       " 4.779748669829956,\n",
       " 5.280032409332296,\n",
       " 9.37487375936808,\n",
       " 9.057999922633156,\n",
       " 8.900282804545325,\n",
       " 12.355669839856139,\n",
       " 14.741220868260951,\n",
       " 12.288774595452917,\n",
       " 5.490372239873801,\n",
       " 10.435272006692283]"
      ]
     },
     "execution_count": 4,
     "metadata": {},
     "output_type": "execute_result"
    }
   ],
   "source": [
    "y_act_list"
   ]
  },
  {
   "cell_type": "code",
   "execution_count": 5,
   "metadata": {},
   "outputs": [],
   "source": [
    "data = pd.DataFrame(\n",
    "    \n",
    "    {\n",
    "        \"x\": x_list,\n",
    "        \"y\": y_act_list,\n",
    "        \"y_pred\": y_pred_list\n",
    "    }\n",
    ")"
   ]
  },
  {
   "cell_type": "code",
   "execution_count": 6,
   "metadata": {},
   "outputs": [
    {
     "data": {
      "text/html": [
       "<div>\n",
       "<style scoped>\n",
       "    .dataframe tbody tr th:only-of-type {\n",
       "        vertical-align: middle;\n",
       "    }\n",
       "\n",
       "    .dataframe tbody tr th {\n",
       "        vertical-align: top;\n",
       "    }\n",
       "\n",
       "    .dataframe thead th {\n",
       "        text-align: right;\n",
       "    }\n",
       "</style>\n",
       "<table border=\"1\" class=\"dataframe\">\n",
       "  <thead>\n",
       "    <tr style=\"text-align: right;\">\n",
       "      <th></th>\n",
       "      <th>x</th>\n",
       "      <th>y</th>\n",
       "      <th>y_pred</th>\n",
       "    </tr>\n",
       "  </thead>\n",
       "  <tbody>\n",
       "    <tr>\n",
       "      <th>0</th>\n",
       "      <td>0.701065</td>\n",
       "      <td>6.064280</td>\n",
       "      <td>6.332023</td>\n",
       "    </tr>\n",
       "    <tr>\n",
       "      <th>1</th>\n",
       "      <td>5.832575</td>\n",
       "      <td>16.093577</td>\n",
       "      <td>16.081892</td>\n",
       "    </tr>\n",
       "    <tr>\n",
       "      <th>2</th>\n",
       "      <td>4.211575</td>\n",
       "      <td>12.784052</td>\n",
       "      <td>13.001993</td>\n",
       "    </tr>\n",
       "    <tr>\n",
       "      <th>3</th>\n",
       "      <td>4.062774</td>\n",
       "      <td>12.994081</td>\n",
       "      <td>12.719271</td>\n",
       "    </tr>\n",
       "    <tr>\n",
       "      <th>4</th>\n",
       "      <td>3.745955</td>\n",
       "      <td>10.971220</td>\n",
       "      <td>12.117314</td>\n",
       "    </tr>\n",
       "    <tr>\n",
       "      <th>...</th>\n",
       "      <td>...</td>\n",
       "      <td>...</td>\n",
       "      <td>...</td>\n",
       "    </tr>\n",
       "    <tr>\n",
       "      <th>95</th>\n",
       "      <td>3.748607</td>\n",
       "      <td>12.355670</td>\n",
       "      <td>12.122354</td>\n",
       "    </tr>\n",
       "    <tr>\n",
       "      <th>96</th>\n",
       "      <td>4.275012</td>\n",
       "      <td>14.741221</td>\n",
       "      <td>13.122522</td>\n",
       "    </tr>\n",
       "    <tr>\n",
       "      <th>97</th>\n",
       "      <td>3.942380</td>\n",
       "      <td>12.288775</td>\n",
       "      <td>12.490522</td>\n",
       "    </tr>\n",
       "    <tr>\n",
       "      <th>98</th>\n",
       "      <td>0.937828</td>\n",
       "      <td>5.490372</td>\n",
       "      <td>6.781874</td>\n",
       "    </tr>\n",
       "    <tr>\n",
       "      <th>99</th>\n",
       "      <td>3.597549</td>\n",
       "      <td>10.435272</td>\n",
       "      <td>11.835342</td>\n",
       "    </tr>\n",
       "  </tbody>\n",
       "</table>\n",
       "<p>100 rows × 3 columns</p>\n",
       "</div>"
      ],
      "text/plain": [
       "           x          y     y_pred\n",
       "0   0.701065   6.064280   6.332023\n",
       "1   5.832575  16.093577  16.081892\n",
       "2   4.211575  12.784052  13.001993\n",
       "3   4.062774  12.994081  12.719271\n",
       "4   3.745955  10.971220  12.117314\n",
       "..       ...        ...        ...\n",
       "95  3.748607  12.355670  12.122354\n",
       "96  4.275012  14.741221  13.122522\n",
       "97  3.942380  12.288775  12.490522\n",
       "98  0.937828   5.490372   6.781874\n",
       "99  3.597549  10.435272  11.835342\n",
       "\n",
       "[100 rows x 3 columns]"
      ]
     },
     "execution_count": 6,
     "metadata": {},
     "output_type": "execute_result"
    }
   ],
   "source": [
    "data"
   ]
  },
  {
   "cell_type": "code",
   "execution_count": 7,
   "metadata": {},
   "outputs": [
    {
     "data": {
      "text/plain": [
       "[<matplotlib.lines.Line2D at 0x7faf12b16fd0>]"
      ]
     },
     "execution_count": 7,
     "metadata": {},
     "output_type": "execute_result"
    },
    {
     "data": {
      "image/png": "[encoded data removed]",
      "text/plain": [
       "<Figure size 432x288 with 1 Axes>"
      ]
     },
     "metadata": {
      "needs_background": "light"
     },
     "output_type": "display_data"
    }
   ],
   "source": [
    "import matplotlib.pyplot as plt\n",
    "%matplotlib inline\n",
    "plt.plot(x,y_pred)\n",
    "plt.plot(x,y_act, \"ro\")\n",
    "\n"
   ]
  },
  {
   "cell_type": "code",
   "execution_count": null,
   "metadata": {},
   "outputs": [],
   "source": []
  },
  {
   "cell_type": "code",
   "execution_count": null,
   "metadata": {},
   "outputs": [],
   "source": []
  }
 ],
 "metadata": {
  "kernelspec": {
   "display_name": "Python 3",
   "language": "python",
   "name": "python3"
  },
  "language_info": {
   "codemirror_mode": {
    "name": "ipython",
    "version": 3
   },
   "file_extension": ".py",
   "mimetype": "text/x-python",
   "name": "python",
   "nbconvert_exporter": "python",
   "pygments_lexer": "ipython3",
   "version": "3.7.6"
  }
 },
 "nbformat": 4,
 "nbformat_minor": 4
}
