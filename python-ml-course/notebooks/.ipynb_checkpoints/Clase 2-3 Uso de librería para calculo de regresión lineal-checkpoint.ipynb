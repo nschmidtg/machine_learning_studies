{
 "cells": [
  {
   "cell_type": "code",
   "execution_count": 4,
   "metadata": {},
   "outputs": [
    {
     "data": {
      "text/html": [
       "<div>\n",
       "<style scoped>\n",
       "    .dataframe tbody tr th:only-of-type {\n",
       "        vertical-align: middle;\n",
       "    }\n",
       "\n",
       "    .dataframe tbody tr th {\n",
       "        vertical-align: top;\n",
       "    }\n",
       "\n",
       "    .dataframe thead th {\n",
       "        text-align: right;\n",
       "    }\n",
       "</style>\n",
       "<table border=\"1\" class=\"dataframe\">\n",
       "  <thead>\n",
       "    <tr style=\"text-align: right;\">\n",
       "      <th></th>\n",
       "      <th>TV</th>\n",
       "      <th>Radio</th>\n",
       "      <th>Newspaper</th>\n",
       "      <th>Sales</th>\n",
       "    </tr>\n",
       "  </thead>\n",
       "  <tbody>\n",
       "    <tr>\n",
       "      <th>0</th>\n",
       "      <td>230.1</td>\n",
       "      <td>37.8</td>\n",
       "      <td>69.2</td>\n",
       "      <td>22.1</td>\n",
       "    </tr>\n",
       "    <tr>\n",
       "      <th>1</th>\n",
       "      <td>44.5</td>\n",
       "      <td>39.3</td>\n",
       "      <td>45.1</td>\n",
       "      <td>10.4</td>\n",
       "    </tr>\n",
       "    <tr>\n",
       "      <th>2</th>\n",
       "      <td>17.2</td>\n",
       "      <td>45.9</td>\n",
       "      <td>69.3</td>\n",
       "      <td>9.3</td>\n",
       "    </tr>\n",
       "    <tr>\n",
       "      <th>3</th>\n",
       "      <td>151.5</td>\n",
       "      <td>41.3</td>\n",
       "      <td>58.5</td>\n",
       "      <td>18.5</td>\n",
       "    </tr>\n",
       "    <tr>\n",
       "      <th>4</th>\n",
       "      <td>180.8</td>\n",
       "      <td>10.8</td>\n",
       "      <td>58.4</td>\n",
       "      <td>12.9</td>\n",
       "    </tr>\n",
       "  </tbody>\n",
       "</table>\n",
       "</div>"
      ],
      "text/plain": [
       "      TV  Radio  Newspaper  Sales\n",
       "0  230.1   37.8       69.2   22.1\n",
       "1   44.5   39.3       45.1   10.4\n",
       "2   17.2   45.9       69.3    9.3\n",
       "3  151.5   41.3       58.5   18.5\n",
       "4  180.8   10.8       58.4   12.9"
      ]
     },
     "execution_count": 4,
     "metadata": {},
     "output_type": "execute_result"
    }
   ],
   "source": [
    "import pandas as pd\n",
    "data = pd.read_csv(\"../datasets/ads/Advertising.csv\")\n",
    "data.head()"
   ]
  },
  {
   "cell_type": "code",
   "execution_count": 5,
   "metadata": {},
   "outputs": [
    {
     "data": {
      "text/plain": [
       "Intercept    7.032594\n",
       "TV           0.047537\n",
       "dtype: float64"
      ]
     },
     "execution_count": 5,
     "metadata": {},
     "output_type": "execute_result"
    }
   ],
   "source": [
    "import statsmodels.formula.api as smf\n",
    "lm = smf.ols(formula=\"Sales~TV\", data = data).fit()\n",
    "lm.params"
   ]
  },
  {
   "cell_type": "markdown",
   "metadata": {},
   "source": [
    "# El modelo lineal predictivo sería Sales = 7.0032 + 0.047*TV"
   ]
  },
  {
   "cell_type": "code",
   "execution_count": 6,
   "metadata": {},
   "outputs": [
    {
     "data": {
      "text/plain": [
       "Intercept    1.406300e-35\n",
       "TV           1.467390e-42\n",
       "dtype: float64"
      ]
     },
     "execution_count": 6,
     "metadata": {},
     "output_type": "execute_result"
    }
   ],
   "source": [
    "# Calculo los p valores (deben ser pequeños para que me digan que mis parámetros sin significativos)\n",
    "\n",
    "lm.pvalues\n"
   ]
  },
  {
   "cell_type": "markdown",
   "metadata": {},
   "source": [
    "Los p valores son tan pequeños que podemos decir que los parámetros son super significativos"
   ]
  },
  {
   "cell_type": "code",
   "execution_count": 7,
   "metadata": {},
   "outputs": [
    {
     "data": {
      "text/plain": [
       "0.611875050850071"
      ]
     },
     "execution_count": 7,
     "metadata": {},
     "output_type": "execute_result"
    }
   ],
   "source": [
    "# Calculo el valor de R2 (R cuadrado)\n",
    "lm.rsquared"
   ]
  },
  {
   "cell_type": "code",
   "execution_count": 8,
   "metadata": {},
   "outputs": [
    {
     "data": {
      "text/plain": [
       "0.6099148238341623"
      ]
     },
     "execution_count": 8,
     "metadata": {},
     "output_type": "execute_result"
    }
   ],
   "source": [
    "lm.rsquared_adj"
   ]
  },
  {
   "cell_type": "code",
   "execution_count": 9,
   "metadata": {},
   "outputs": [
    {
     "data": {
      "text/html": [
       "<table class=\"simpletable\">\n",
       "<caption>OLS Regression Results</caption>\n",
       "<tr>\n",
       "  <th>Dep. Variable:</th>          <td>Sales</td>      <th>  R-squared:         </th> <td>   0.612</td>\n",
       "</tr>\n",
       "<tr>\n",
       "  <th>Model:</th>                   <td>OLS</td>       <th>  Adj. R-squared:    </th> <td>   0.610</td>\n",
       "</tr>\n",
       "<tr>\n",
       "  <th>Method:</th>             <td>Least Squares</td>  <th>  F-statistic:       </th> <td>   312.1</td>\n",
       "</tr>\n",
       "<tr>\n",
       "  <th>Date:</th>             <td>Tue, 04 Aug 2020</td> <th>  Prob (F-statistic):</th> <td>1.47e-42</td>\n",
       "</tr>\n",
       "<tr>\n",
       "  <th>Time:</th>                 <td>09:08:02</td>     <th>  Log-Likelihood:    </th> <td> -519.05</td>\n",
       "</tr>\n",
       "<tr>\n",
       "  <th>No. Observations:</th>      <td>   200</td>      <th>  AIC:               </th> <td>   1042.</td>\n",
       "</tr>\n",
       "<tr>\n",
       "  <th>Df Residuals:</th>          <td>   198</td>      <th>  BIC:               </th> <td>   1049.</td>\n",
       "</tr>\n",
       "<tr>\n",
       "  <th>Df Model:</th>              <td>     1</td>      <th>                     </th>     <td> </td>   \n",
       "</tr>\n",
       "<tr>\n",
       "  <th>Covariance Type:</th>      <td>nonrobust</td>    <th>                     </th>     <td> </td>   \n",
       "</tr>\n",
       "</table>\n",
       "<table class=\"simpletable\">\n",
       "<tr>\n",
       "      <td></td>         <th>coef</th>     <th>std err</th>      <th>t</th>      <th>P>|t|</th>  <th>[0.025</th>    <th>0.975]</th>  \n",
       "</tr>\n",
       "<tr>\n",
       "  <th>Intercept</th> <td>    7.0326</td> <td>    0.458</td> <td>   15.360</td> <td> 0.000</td> <td>    6.130</td> <td>    7.935</td>\n",
       "</tr>\n",
       "<tr>\n",
       "  <th>TV</th>        <td>    0.0475</td> <td>    0.003</td> <td>   17.668</td> <td> 0.000</td> <td>    0.042</td> <td>    0.053</td>\n",
       "</tr>\n",
       "</table>\n",
       "<table class=\"simpletable\">\n",
       "<tr>\n",
       "  <th>Omnibus:</th>       <td> 0.531</td> <th>  Durbin-Watson:     </th> <td>   1.935</td>\n",
       "</tr>\n",
       "<tr>\n",
       "  <th>Prob(Omnibus):</th> <td> 0.767</td> <th>  Jarque-Bera (JB):  </th> <td>   0.669</td>\n",
       "</tr>\n",
       "<tr>\n",
       "  <th>Skew:</th>          <td>-0.089</td> <th>  Prob(JB):          </th> <td>   0.716</td>\n",
       "</tr>\n",
       "<tr>\n",
       "  <th>Kurtosis:</th>      <td> 2.779</td> <th>  Cond. No.          </th> <td>    338.</td>\n",
       "</tr>\n",
       "</table><br/><br/>Warnings:<br/>[1] Standard Errors assume that the covariance matrix of the errors is correctly specified."
      ],
      "text/plain": [
       "<class 'statsmodels.iolib.summary.Summary'>\n",
       "\"\"\"\n",
       "                            OLS Regression Results                            \n",
       "==============================================================================\n",
       "Dep. Variable:                  Sales   R-squared:                       0.612\n",
       "Model:                            OLS   Adj. R-squared:                  0.610\n",
       "Method:                 Least Squares   F-statistic:                     312.1\n",
       "Date:                Tue, 04 Aug 2020   Prob (F-statistic):           1.47e-42\n",
       "Time:                        09:08:02   Log-Likelihood:                -519.05\n",
       "No. Observations:                 200   AIC:                             1042.\n",
       "Df Residuals:                     198   BIC:                             1049.\n",
       "Df Model:                           1                                         \n",
       "Covariance Type:            nonrobust                                         \n",
       "==============================================================================\n",
       "                 coef    std err          t      P>|t|      [0.025      0.975]\n",
       "------------------------------------------------------------------------------\n",
       "Intercept      7.0326      0.458     15.360      0.000       6.130       7.935\n",
       "TV             0.0475      0.003     17.668      0.000       0.042       0.053\n",
       "==============================================================================\n",
       "Omnibus:                        0.531   Durbin-Watson:                   1.935\n",
       "Prob(Omnibus):                  0.767   Jarque-Bera (JB):                0.669\n",
       "Skew:                          -0.089   Prob(JB):                        0.716\n",
       "Kurtosis:                       2.779   Cond. No.                         338.\n",
       "==============================================================================\n",
       "\n",
       "Warnings:\n",
       "[1] Standard Errors assume that the covariance matrix of the errors is correctly specified.\n",
       "\"\"\""
      ]
     },
     "execution_count": 9,
     "metadata": {},
     "output_type": "execute_result"
    }
   ],
   "source": [
    "lm.summary()"
   ]
  },
  {
   "cell_type": "markdown",
   "metadata": {},
   "source": [
    "- F-stadistico es grande\n",
    "- p valor asociado es muy chico\n",
    "- los parámetros son todos significantes y no nulos\n",
    "- Los t valores para los parámetros tienen los intervalores de confianza desde el 0.025 y 0.975. Intervalos no contienen el cero, por lo que no son nulos.\n",
    "\n",
    "Por lo tanto, la regresión que hicimos es buena y existe una relación lineal entre X e Y"
   ]
  },
  {
   "cell_type": "code",
   "execution_count": 10,
   "metadata": {},
   "outputs": [
    {
     "data": {
      "text/plain": [
       "0      17.970775\n",
       "1       9.147974\n",
       "2       7.850224\n",
       "3      14.234395\n",
       "4      15.627218\n",
       "         ...    \n",
       "195     8.848493\n",
       "196    11.510545\n",
       "197    15.446579\n",
       "198    20.513985\n",
       "199    18.065848\n",
       "Length: 200, dtype: float64"
      ]
     },
     "execution_count": 10,
     "metadata": {},
     "output_type": "execute_result"
    }
   ],
   "source": [
    "# predecir valores a futuro. predict recibe un dataframe, por lo que creo un dataframe con \n",
    "# una columna del detaframe.\n",
    "sales_pred = lm.predict(pd.DataFrame(data[\"TV\"]))\n",
    "sales_pred"
   ]
  },
  {
   "cell_type": "code",
   "execution_count": 11,
   "metadata": {},
   "outputs": [
    {
     "data": {
      "text/plain": [
       "[<matplotlib.lines.Line2D at 0x7f4be6a482d0>]"
      ]
     },
     "execution_count": 11,
     "metadata": {},
     "output_type": "execute_result"
    },
    {
     "data": {
      "image/png": "[encoded data removed]",
      "text/plain": [
       "<Figure size 432x288 with 1 Axes>"
      ]
     },
     "metadata": {
      "needs_background": "light"
     },
     "output_type": "display_data"
    }
   ],
   "source": [
    "import matplotlib.pyplot as plt\n",
    "data.plot(kind = \"scatter\", x = \"TV\", y = \"Sales\")\n",
    "\n",
    "# ploteo el gráfico. plot recibe valores de X, valores de Y, color, etc..\n",
    "plt.plot(pd.DataFrame(data[\"TV\"]), sales_pred, c=\"red\")"
   ]
  },
  {
   "cell_type": "code",
   "execution_count": 12,
   "metadata": {},
   "outputs": [
    {
     "data": {
      "text/plain": [
       "2102.5305838896525"
      ]
     },
     "execution_count": 12,
     "metadata": {},
     "output_type": "execute_result"
    }
   ],
   "source": [
    "# Calcularemos el error estandar residual\n",
    "import numpy as np\n",
    "\n",
    "# Agrego una nueva columna con los valores predecidos por el modelo\n",
    "data[\"sales_pred\"] = 7.032594 + 0.047537 * data[\"TV\"]\n",
    "\n",
    "# Agrego la columna de los Errores estandares residuales (diferencias cuadradas entre valores reales y predecidos)\n",
    "data[\"RSE\"] = (data[\"Sales\"] - data[\"sales_pred\"])**2\n",
    "\n",
    "# Suma de los cuadrados de las diferencias\n",
    "SSD = sum(data[\"RSE\"])\n",
    "SSD"
   ]
  },
  {
   "cell_type": "code",
   "execution_count": 13,
   "metadata": {},
   "outputs": [
    {
     "data": {
      "text/plain": [
       "3.258656369238098"
      ]
     },
     "execution_count": 13,
     "metadata": {},
     "output_type": "execute_result"
    }
   ],
   "source": [
    "\n",
    "# Calculo el error estandar residual\n",
    "RSE = np.sqrt(SSD/(len(data)-2))\n",
    "RSE"
   ]
  },
  {
   "cell_type": "code",
   "execution_count": 14,
   "metadata": {},
   "outputs": [
    {
     "data": {
      "text/plain": [
       "14.022500000000003"
      ]
     },
     "execution_count": 14,
     "metadata": {},
     "output_type": "execute_result"
    }
   ],
   "source": [
    "# 3.25 es la desviación típica del promedio\n",
    "# Para ver qué tan significativo es este valor respecto del promedio de las ventas, hacemos:\n",
    "sales_m = np.mean(data[\"Sales\"])\n",
    "sales_m"
   ]
  },
  {
   "cell_type": "code",
   "execution_count": 15,
   "metadata": {},
   "outputs": [
    {
     "data": {
      "text/plain": [
       "0.2323876890168014"
      ]
     },
     "execution_count": 15,
     "metadata": {},
     "output_type": "execute_result"
    }
   ],
   "source": [
    "# Finalmente, para calcular el % de error:\n",
    "error = RSE/sales_m\n",
    "error"
   ]
  },
  {
   "cell_type": "code",
   "execution_count": 16,
   "metadata": {},
   "outputs": [
    {
     "data": {
      "text/plain": [
       "(array([ 4., 10., 13., 17., 40., 42., 33., 16., 17.,  8.]),\n",
       " array([-8.3860819 , -6.82624404, -5.26640618, -3.70656832, -2.14673046,\n",
       "        -0.5868926 ,  0.97294526,  2.53278312,  4.09262098,  5.65245884,\n",
       "         7.2122967 ]),\n",
       " <a list of 10 Patch objects>)"
      ]
     },
     "execution_count": 16,
     "metadata": {},
     "output_type": "execute_result"
    },
    {
     "data": {
      "image/png": "[encoded data removed]",
      "text/plain": [
       "<Figure size 432x288 with 1 Axes>"
      ]
     },
     "metadata": {
      "needs_background": "light"
     },
     "output_type": "display_data"
    }
   ],
   "source": [
    "# Tengo un error cercano al 23%. Esto significa que mi modelo no puede explicar el 23% de los datos.\n",
    "\n",
    "# Ahora tengo que ver la distribución de los errores, los cuales deben distribuir normal:\n",
    "plt.hist((data[\"Sales\"]-data[\"sales_pred\"]))"
   ]
  },
  {
   "cell_type": "markdown",
   "metadata": {},
   "source": [
    "# Esta predicción no es tan buena:\n",
    "- Error es del 23%\n",
    "- R2 se puede mejorar un poco\n",
    "\n",
    "Por lo tanto, dado el dataset (que tiene más canales de información; Radio y Newspapes), que nos podrían contribuir a elaborar un modelo lineal de más de una variable predictoria."
   ]
  },
  {
   "cell_type": "markdown",
   "metadata": {},
   "source": [
    "# Vamos a hacer un modelo lineal con mayor cantidad de parámetros\n",
    "- Sales ~ TV\n",
    "- Sales ~ Radio\n",
    "- ...\n",
    "- Sales ~ TV+Newspaper\n",
    "\n",
    "2**k - 1 modelos distintos, siendo k la cantidad de parámetros (obviamente no incluye Sales, la variable independiente). \n",
    "\n",
    " Cada nueva variable debería aumentar el R2 ajustado.\n",
    " \n",
    " Enfoque constructivo es ir sumando parámetros en función de que aporten a aumentar el R2 y menor error residual de suma de los cuadrados, en todo otro caso no se incluye en el modelo.\n",
    " \n",
    " Enfoque destructivo es partir con todos e ir quitando.\n",
    " \n",
    " Python nos permite implementar esto de forma rápida, pero lo vamos a hacer de forma manual."
   ]
  },
  {
   "cell_type": "code",
   "execution_count": 17,
   "metadata": {},
   "outputs": [
    {
     "data": {
      "text/plain": [
       "Intercept    5.774948\n",
       "TV           0.046901\n",
       "Newspaper    0.044219\n",
       "dtype: float64"
      ]
     },
     "execution_count": 17,
     "metadata": {},
     "output_type": "execute_result"
    }
   ],
   "source": [
    "#añadir el newspaper al modelo existente\n",
    "\n",
    "# EL metodo fit debe ir\n",
    "lm2 = smf.ols(formula=\"Sales~TV+Newspaper\", data = data).fit()\n",
    "lm2.params"
   ]
  },
  {
   "cell_type": "code",
   "execution_count": 18,
   "metadata": {},
   "outputs": [
    {
     "data": {
      "text/plain": [
       "Intercept    3.145860e-22\n",
       "TV           5.507584e-44\n",
       "Newspaper    2.217084e-05\n",
       "dtype: float64"
      ]
     },
     "execution_count": 18,
     "metadata": {},
     "output_type": "execute_result"
    }
   ],
   "source": [
    "lm2.pvalues"
   ]
  },
  {
   "cell_type": "code",
   "execution_count": 19,
   "metadata": {},
   "outputs": [],
   "source": [
    "# Todos los p values siguen siendo no nulos y muy pequeños"
   ]
  },
  {
   "cell_type": "code",
   "execution_count": 20,
   "metadata": {},
   "outputs": [
    {
     "data": {
      "text/plain": [
       "0.6422399150864777"
      ]
     },
     "execution_count": 20,
     "metadata": {},
     "output_type": "execute_result"
    }
   ],
   "source": [
    "# Sales = lm2.params[0] + lm2.params[1]*TV + lm2.params[2]*Newspaper \n",
    "\n",
    "lm2.rsquared\n",
    "lm2.rsquared_adj\n",
    "\n",
    "# Nuestro R2 aumentó en relación el modelo que incluía solamente la TV"
   ]
  },
  {
   "cell_type": "code",
   "execution_count": 21,
   "metadata": {},
   "outputs": [
    {
     "data": {
      "text/plain": [
       "0      19.626901\n",
       "1       9.856348\n",
       "2       9.646055\n",
       "3      15.467318\n",
       "4      16.837102\n",
       "         ...    \n",
       "195     8.176802\n",
       "196    10.551220\n",
       "197    14.359467\n",
       "198    22.003458\n",
       "199    17.045429\n",
       "Length: 200, dtype: float64"
      ]
     },
     "execution_count": 21,
     "metadata": {},
     "output_type": "execute_result"
    }
   ],
   "source": [
    "sales_pred = lm2.predict(data[[\"TV\", \"Newspaper\"]])\n",
    "sales_pred"
   ]
  },
  {
   "cell_type": "code",
   "execution_count": 22,
   "metadata": {},
   "outputs": [
    {
     "data": {
      "text/plain": [
       "1918.5618118968275"
      ]
     },
     "execution_count": 22,
     "metadata": {},
     "output_type": "execute_result"
    }
   ],
   "source": [
    "# Voy a calcular el SSD, que es la suma de los RSE\n",
    "SSD = sum((data[\"Sales\"]-sales_pred)**2)\n",
    "SSD"
   ]
  },
  {
   "cell_type": "code",
   "execution_count": 25,
   "metadata": {},
   "outputs": [],
   "source": [
    "# número de varibles predictoras es 2, por lo que debemos restar 3 (2 por las variables predictoras - 1)\n",
    "RSE = np.sqrt(SSD/(len(data)-2-1))"
   ]
  },
  {
   "cell_type": "code",
   "execution_count": 26,
   "metadata": {},
   "outputs": [
    {
     "data": {
      "text/plain": [
       "3.1207198602528856"
      ]
     },
     "execution_count": 26,
     "metadata": {},
     "output_type": "execute_result"
    }
   ],
   "source": [
    "RSE"
   ]
  },
  {
   "cell_type": "code",
   "execution_count": 27,
   "metadata": {},
   "outputs": [],
   "source": [
    "# bajamos de 3.25 a 3.12 con respecto al modelo solo con TV, por lo que estamos mejor.\n",
    "error = RSE / sales_m"
   ]
  },
  {
   "cell_type": "code",
   "execution_count": 28,
   "metadata": {},
   "outputs": [
    {
     "data": {
      "text/plain": [
       "0.2225508903728212"
      ]
     },
     "execution_count": 28,
     "metadata": {},
     "output_type": "execute_result"
    }
   ],
   "source": [
    "error\n",
    "# el error baja también, ahora nuestro modelo deja de explicar el 22% de los datos, antes era el23%"
   ]
  },
  {
   "cell_type": "code",
   "execution_count": 29,
   "metadata": {},
   "outputs": [
    {
     "data": {
      "text/html": [
       "<table class=\"simpletable\">\n",
       "<caption>OLS Regression Results</caption>\n",
       "<tr>\n",
       "  <th>Dep. Variable:</th>          <td>Sales</td>      <th>  R-squared:         </th> <td>   0.646</td>\n",
       "</tr>\n",
       "<tr>\n",
       "  <th>Model:</th>                   <td>OLS</td>       <th>  Adj. R-squared:    </th> <td>   0.642</td>\n",
       "</tr>\n",
       "<tr>\n",
       "  <th>Method:</th>             <td>Least Squares</td>  <th>  F-statistic:       </th> <td>   179.6</td>\n",
       "</tr>\n",
       "<tr>\n",
       "  <th>Date:</th>             <td>Tue, 04 Aug 2020</td> <th>  Prob (F-statistic):</th> <td>3.95e-45</td>\n",
       "</tr>\n",
       "<tr>\n",
       "  <th>Time:</th>                 <td>09:08:18</td>     <th>  Log-Likelihood:    </th> <td> -509.89</td>\n",
       "</tr>\n",
       "<tr>\n",
       "  <th>No. Observations:</th>      <td>   200</td>      <th>  AIC:               </th> <td>   1026.</td>\n",
       "</tr>\n",
       "<tr>\n",
       "  <th>Df Residuals:</th>          <td>   197</td>      <th>  BIC:               </th> <td>   1036.</td>\n",
       "</tr>\n",
       "<tr>\n",
       "  <th>Df Model:</th>              <td>     2</td>      <th>                     </th>     <td> </td>   \n",
       "</tr>\n",
       "<tr>\n",
       "  <th>Covariance Type:</th>      <td>nonrobust</td>    <th>                     </th>     <td> </td>   \n",
       "</tr>\n",
       "</table>\n",
       "<table class=\"simpletable\">\n",
       "<tr>\n",
       "      <td></td>         <th>coef</th>     <th>std err</th>      <th>t</th>      <th>P>|t|</th>  <th>[0.025</th>    <th>0.975]</th>  \n",
       "</tr>\n",
       "<tr>\n",
       "  <th>Intercept</th> <td>    5.7749</td> <td>    0.525</td> <td>   10.993</td> <td> 0.000</td> <td>    4.739</td> <td>    6.811</td>\n",
       "</tr>\n",
       "<tr>\n",
       "  <th>TV</th>        <td>    0.0469</td> <td>    0.003</td> <td>   18.173</td> <td> 0.000</td> <td>    0.042</td> <td>    0.052</td>\n",
       "</tr>\n",
       "<tr>\n",
       "  <th>Newspaper</th> <td>    0.0442</td> <td>    0.010</td> <td>    4.346</td> <td> 0.000</td> <td>    0.024</td> <td>    0.064</td>\n",
       "</tr>\n",
       "</table>\n",
       "<table class=\"simpletable\">\n",
       "<tr>\n",
       "  <th>Omnibus:</th>       <td> 0.658</td> <th>  Durbin-Watson:     </th> <td>   1.969</td>\n",
       "</tr>\n",
       "<tr>\n",
       "  <th>Prob(Omnibus):</th> <td> 0.720</td> <th>  Jarque-Bera (JB):  </th> <td>   0.415</td>\n",
       "</tr>\n",
       "<tr>\n",
       "  <th>Skew:</th>          <td>-0.093</td> <th>  Prob(JB):          </th> <td>   0.813</td>\n",
       "</tr>\n",
       "<tr>\n",
       "  <th>Kurtosis:</th>      <td> 3.122</td> <th>  Cond. No.          </th> <td>    410.</td>\n",
       "</tr>\n",
       "</table><br/><br/>Warnings:<br/>[1] Standard Errors assume that the covariance matrix of the errors is correctly specified."
      ],
      "text/plain": [
       "<class 'statsmodels.iolib.summary.Summary'>\n",
       "\"\"\"\n",
       "                            OLS Regression Results                            \n",
       "==============================================================================\n",
       "Dep. Variable:                  Sales   R-squared:                       0.646\n",
       "Model:                            OLS   Adj. R-squared:                  0.642\n",
       "Method:                 Least Squares   F-statistic:                     179.6\n",
       "Date:                Tue, 04 Aug 2020   Prob (F-statistic):           3.95e-45\n",
       "Time:                        09:08:18   Log-Likelihood:                -509.89\n",
       "No. Observations:                 200   AIC:                             1026.\n",
       "Df Residuals:                     197   BIC:                             1036.\n",
       "Df Model:                           2                                         \n",
       "Covariance Type:            nonrobust                                         \n",
       "==============================================================================\n",
       "                 coef    std err          t      P>|t|      [0.025      0.975]\n",
       "------------------------------------------------------------------------------\n",
       "Intercept      5.7749      0.525     10.993      0.000       4.739       6.811\n",
       "TV             0.0469      0.003     18.173      0.000       0.042       0.052\n",
       "Newspaper      0.0442      0.010      4.346      0.000       0.024       0.064\n",
       "==============================================================================\n",
       "Omnibus:                        0.658   Durbin-Watson:                   1.969\n",
       "Prob(Omnibus):                  0.720   Jarque-Bera (JB):                0.415\n",
       "Skew:                          -0.093   Prob(JB):                        0.813\n",
       "Kurtosis:                       3.122   Cond. No.                         410.\n",
       "==============================================================================\n",
       "\n",
       "Warnings:\n",
       "[1] Standard Errors assume that the covariance matrix of the errors is correctly specified.\n",
       "\"\"\""
      ]
     },
     "execution_count": 29,
     "metadata": {},
     "output_type": "execute_result"
    }
   ],
   "source": [
    "lm2.summary()"
   ]
  },
  {
   "cell_type": "code",
   "execution_count": 30,
   "metadata": {},
   "outputs": [],
   "source": [
    "# podemos ver en el summary que todo baja:\n",
    "# los pvalues bajan\n",
    "# el F estadístico es más bajo\n",
    "# el R2 y R2 ajustado aumenta\n",
    "\n",
    "# Conclusión, añadir periódico aumenta, pero tampoco taaaanto. Vamos a agregar la Radio"
   ]
  },
  {
   "cell_type": "code",
   "execution_count": 31,
   "metadata": {},
   "outputs": [],
   "source": [
    "lm3 = smf.ols(formula=\"Sales~TV+Radio\", data = data).fit()"
   ]
  },
  {
   "cell_type": "code",
   "execution_count": 32,
   "metadata": {},
   "outputs": [
    {
     "data": {
      "text/html": [
       "<table class=\"simpletable\">\n",
       "<caption>OLS Regression Results</caption>\n",
       "<tr>\n",
       "  <th>Dep. Variable:</th>          <td>Sales</td>      <th>  R-squared:         </th> <td>   0.897</td>\n",
       "</tr>\n",
       "<tr>\n",
       "  <th>Model:</th>                   <td>OLS</td>       <th>  Adj. R-squared:    </th> <td>   0.896</td>\n",
       "</tr>\n",
       "<tr>\n",
       "  <th>Method:</th>             <td>Least Squares</td>  <th>  F-statistic:       </th> <td>   859.6</td>\n",
       "</tr>\n",
       "<tr>\n",
       "  <th>Date:</th>             <td>Tue, 04 Aug 2020</td> <th>  Prob (F-statistic):</th> <td>4.83e-98</td>\n",
       "</tr>\n",
       "<tr>\n",
       "  <th>Time:</th>                 <td>09:08:19</td>     <th>  Log-Likelihood:    </th> <td> -386.20</td>\n",
       "</tr>\n",
       "<tr>\n",
       "  <th>No. Observations:</th>      <td>   200</td>      <th>  AIC:               </th> <td>   778.4</td>\n",
       "</tr>\n",
       "<tr>\n",
       "  <th>Df Residuals:</th>          <td>   197</td>      <th>  BIC:               </th> <td>   788.3</td>\n",
       "</tr>\n",
       "<tr>\n",
       "  <th>Df Model:</th>              <td>     2</td>      <th>                     </th>     <td> </td>   \n",
       "</tr>\n",
       "<tr>\n",
       "  <th>Covariance Type:</th>      <td>nonrobust</td>    <th>                     </th>     <td> </td>   \n",
       "</tr>\n",
       "</table>\n",
       "<table class=\"simpletable\">\n",
       "<tr>\n",
       "      <td></td>         <th>coef</th>     <th>std err</th>      <th>t</th>      <th>P>|t|</th>  <th>[0.025</th>    <th>0.975]</th>  \n",
       "</tr>\n",
       "<tr>\n",
       "  <th>Intercept</th> <td>    2.9211</td> <td>    0.294</td> <td>    9.919</td> <td> 0.000</td> <td>    2.340</td> <td>    3.502</td>\n",
       "</tr>\n",
       "<tr>\n",
       "  <th>TV</th>        <td>    0.0458</td> <td>    0.001</td> <td>   32.909</td> <td> 0.000</td> <td>    0.043</td> <td>    0.048</td>\n",
       "</tr>\n",
       "<tr>\n",
       "  <th>Radio</th>     <td>    0.1880</td> <td>    0.008</td> <td>   23.382</td> <td> 0.000</td> <td>    0.172</td> <td>    0.204</td>\n",
       "</tr>\n",
       "</table>\n",
       "<table class=\"simpletable\">\n",
       "<tr>\n",
       "  <th>Omnibus:</th>       <td>60.022</td> <th>  Durbin-Watson:     </th> <td>   2.081</td>\n",
       "</tr>\n",
       "<tr>\n",
       "  <th>Prob(Omnibus):</th> <td> 0.000</td> <th>  Jarque-Bera (JB):  </th> <td> 148.679</td>\n",
       "</tr>\n",
       "<tr>\n",
       "  <th>Skew:</th>          <td>-1.323</td> <th>  Prob(JB):          </th> <td>5.19e-33</td>\n",
       "</tr>\n",
       "<tr>\n",
       "  <th>Kurtosis:</th>      <td> 6.292</td> <th>  Cond. No.          </th> <td>    425.</td>\n",
       "</tr>\n",
       "</table><br/><br/>Warnings:<br/>[1] Standard Errors assume that the covariance matrix of the errors is correctly specified."
      ],
      "text/plain": [
       "<class 'statsmodels.iolib.summary.Summary'>\n",
       "\"\"\"\n",
       "                            OLS Regression Results                            \n",
       "==============================================================================\n",
       "Dep. Variable:                  Sales   R-squared:                       0.897\n",
       "Model:                            OLS   Adj. R-squared:                  0.896\n",
       "Method:                 Least Squares   F-statistic:                     859.6\n",
       "Date:                Tue, 04 Aug 2020   Prob (F-statistic):           4.83e-98\n",
       "Time:                        09:08:19   Log-Likelihood:                -386.20\n",
       "No. Observations:                 200   AIC:                             778.4\n",
       "Df Residuals:                     197   BIC:                             788.3\n",
       "Df Model:                           2                                         \n",
       "Covariance Type:            nonrobust                                         \n",
       "==============================================================================\n",
       "                 coef    std err          t      P>|t|      [0.025      0.975]\n",
       "------------------------------------------------------------------------------\n",
       "Intercept      2.9211      0.294      9.919      0.000       2.340       3.502\n",
       "TV             0.0458      0.001     32.909      0.000       0.043       0.048\n",
       "Radio          0.1880      0.008     23.382      0.000       0.172       0.204\n",
       "==============================================================================\n",
       "Omnibus:                       60.022   Durbin-Watson:                   2.081\n",
       "Prob(Omnibus):                  0.000   Jarque-Bera (JB):              148.679\n",
       "Skew:                          -1.323   Prob(JB):                     5.19e-33\n",
       "Kurtosis:                       6.292   Cond. No.                         425.\n",
       "==============================================================================\n",
       "\n",
       "Warnings:\n",
       "[1] Standard Errors assume that the covariance matrix of the errors is correctly specified.\n",
       "\"\"\""
      ]
     },
     "execution_count": 32,
     "metadata": {},
     "output_type": "execute_result"
    }
   ],
   "source": [
    "lm3.summary()"
   ]
  },
  {
   "cell_type": "code",
   "execution_count": 33,
   "metadata": {},
   "outputs": [
    {
     "data": {
      "text/plain": [
       "1.681360912508001"
      ]
     },
     "execution_count": 33,
     "metadata": {},
     "output_type": "execute_result"
    }
   ],
   "source": [
    "# Nuestro F estadístico (pvalor) es muuuy pequeño (más pequeño que el anterior)\n",
    "# el coeficiente de la radio es muy grande\n",
    "# R2 ha aumentado muchísimo\n",
    "\n",
    "sales_pred = lm3.predict(data[[\"TV\",\"Radio\"]])\n",
    "SSD = sum((data[\"Sales\"]-sales_pred)**2)\n",
    "RSE = np.sqrt(SSD/(len(data)-2-1))\n",
    "RSE"
   ]
  },
  {
   "cell_type": "code",
   "execution_count": 34,
   "metadata": {},
   "outputs": [
    {
     "data": {
      "text/plain": [
       "0.11990450436855059"
      ]
     },
     "execution_count": 34,
     "metadata": {},
     "output_type": "execute_result"
    }
   ],
   "source": [
    "error = RSE/sales_m\n",
    "error"
   ]
  },
  {
   "cell_type": "code",
   "execution_count": 35,
   "metadata": {},
   "outputs": [],
   "source": [
    "# Wow, este nuevo modelo deja de explicar solo el 11% de los datos\n",
    "# Probemos con el modelo con los 3 parámetros.\n",
    "\n",
    "lm4 = smf.ols(formula=\"Sales~TV+Radio+Newspaper\", data=data).fit()"
   ]
  },
  {
   "cell_type": "code",
   "execution_count": 36,
   "metadata": {},
   "outputs": [
    {
     "data": {
      "text/html": [
       "<table class=\"simpletable\">\n",
       "<caption>OLS Regression Results</caption>\n",
       "<tr>\n",
       "  <th>Dep. Variable:</th>          <td>Sales</td>      <th>  R-squared:         </th> <td>   0.897</td>\n",
       "</tr>\n",
       "<tr>\n",
       "  <th>Model:</th>                   <td>OLS</td>       <th>  Adj. R-squared:    </th> <td>   0.896</td>\n",
       "</tr>\n",
       "<tr>\n",
       "  <th>Method:</th>             <td>Least Squares</td>  <th>  F-statistic:       </th> <td>   570.3</td>\n",
       "</tr>\n",
       "<tr>\n",
       "  <th>Date:</th>             <td>Tue, 04 Aug 2020</td> <th>  Prob (F-statistic):</th> <td>1.58e-96</td>\n",
       "</tr>\n",
       "<tr>\n",
       "  <th>Time:</th>                 <td>09:08:21</td>     <th>  Log-Likelihood:    </th> <td> -386.18</td>\n",
       "</tr>\n",
       "<tr>\n",
       "  <th>No. Observations:</th>      <td>   200</td>      <th>  AIC:               </th> <td>   780.4</td>\n",
       "</tr>\n",
       "<tr>\n",
       "  <th>Df Residuals:</th>          <td>   196</td>      <th>  BIC:               </th> <td>   793.6</td>\n",
       "</tr>\n",
       "<tr>\n",
       "  <th>Df Model:</th>              <td>     3</td>      <th>                     </th>     <td> </td>   \n",
       "</tr>\n",
       "<tr>\n",
       "  <th>Covariance Type:</th>      <td>nonrobust</td>    <th>                     </th>     <td> </td>   \n",
       "</tr>\n",
       "</table>\n",
       "<table class=\"simpletable\">\n",
       "<tr>\n",
       "      <td></td>         <th>coef</th>     <th>std err</th>      <th>t</th>      <th>P>|t|</th>  <th>[0.025</th>    <th>0.975]</th>  \n",
       "</tr>\n",
       "<tr>\n",
       "  <th>Intercept</th> <td>    2.9389</td> <td>    0.312</td> <td>    9.422</td> <td> 0.000</td> <td>    2.324</td> <td>    3.554</td>\n",
       "</tr>\n",
       "<tr>\n",
       "  <th>TV</th>        <td>    0.0458</td> <td>    0.001</td> <td>   32.809</td> <td> 0.000</td> <td>    0.043</td> <td>    0.049</td>\n",
       "</tr>\n",
       "<tr>\n",
       "  <th>Radio</th>     <td>    0.1885</td> <td>    0.009</td> <td>   21.893</td> <td> 0.000</td> <td>    0.172</td> <td>    0.206</td>\n",
       "</tr>\n",
       "<tr>\n",
       "  <th>Newspaper</th> <td>   -0.0010</td> <td>    0.006</td> <td>   -0.177</td> <td> 0.860</td> <td>   -0.013</td> <td>    0.011</td>\n",
       "</tr>\n",
       "</table>\n",
       "<table class=\"simpletable\">\n",
       "<tr>\n",
       "  <th>Omnibus:</th>       <td>60.414</td> <th>  Durbin-Watson:     </th> <td>   2.084</td>\n",
       "</tr>\n",
       "<tr>\n",
       "  <th>Prob(Omnibus):</th> <td> 0.000</td> <th>  Jarque-Bera (JB):  </th> <td> 151.241</td>\n",
       "</tr>\n",
       "<tr>\n",
       "  <th>Skew:</th>          <td>-1.327</td> <th>  Prob(JB):          </th> <td>1.44e-33</td>\n",
       "</tr>\n",
       "<tr>\n",
       "  <th>Kurtosis:</th>      <td> 6.332</td> <th>  Cond. No.          </th> <td>    454.</td>\n",
       "</tr>\n",
       "</table><br/><br/>Warnings:<br/>[1] Standard Errors assume that the covariance matrix of the errors is correctly specified."
      ],
      "text/plain": [
       "<class 'statsmodels.iolib.summary.Summary'>\n",
       "\"\"\"\n",
       "                            OLS Regression Results                            \n",
       "==============================================================================\n",
       "Dep. Variable:                  Sales   R-squared:                       0.897\n",
       "Model:                            OLS   Adj. R-squared:                  0.896\n",
       "Method:                 Least Squares   F-statistic:                     570.3\n",
       "Date:                Tue, 04 Aug 2020   Prob (F-statistic):           1.58e-96\n",
       "Time:                        09:08:21   Log-Likelihood:                -386.18\n",
       "No. Observations:                 200   AIC:                             780.4\n",
       "Df Residuals:                     196   BIC:                             793.6\n",
       "Df Model:                           3                                         \n",
       "Covariance Type:            nonrobust                                         \n",
       "==============================================================================\n",
       "                 coef    std err          t      P>|t|      [0.025      0.975]\n",
       "------------------------------------------------------------------------------\n",
       "Intercept      2.9389      0.312      9.422      0.000       2.324       3.554\n",
       "TV             0.0458      0.001     32.809      0.000       0.043       0.049\n",
       "Radio          0.1885      0.009     21.893      0.000       0.172       0.206\n",
       "Newspaper     -0.0010      0.006     -0.177      0.860      -0.013       0.011\n",
       "==============================================================================\n",
       "Omnibus:                       60.414   Durbin-Watson:                   2.084\n",
       "Prob(Omnibus):                  0.000   Jarque-Bera (JB):              151.241\n",
       "Skew:                          -1.327   Prob(JB):                     1.44e-33\n",
       "Kurtosis:                       6.332   Cond. No.                         454.\n",
       "==============================================================================\n",
       "\n",
       "Warnings:\n",
       "[1] Standard Errors assume that the covariance matrix of the errors is correctly specified.\n",
       "\"\"\""
      ]
     },
     "execution_count": 36,
     "metadata": {},
     "output_type": "execute_result"
    }
   ],
   "source": [
    "lm4.summary()"
   ]
  },
  {
   "cell_type": "code",
   "execution_count": 37,
   "metadata": {},
   "outputs": [
    {
     "data": {
      "text/plain": [
       "1.6855103734147439"
      ]
     },
     "execution_count": 37,
     "metadata": {},
     "output_type": "execute_result"
    }
   ],
   "source": [
    "# agregando newspaper no nos mejora la situación:\n",
    "\n",
    "# Mismo R2 ajustado (0.897)\n",
    "# F estadístico aumentó (e**-98 -> e**-96)\n",
    "# El coeficiente de newspaper es negativo y casi cero.\n",
    "# P valor de Newspaper tiene un rango que pasa por cero y tiene un P value (P>|t|) súmamente alto. \n",
    "# Con mucha probabilidad el parámetro que acompaña a newspaper pasa por cero, \n",
    "# poruqe el intervalo de confianza pasa por cero\n",
    "\n",
    "# Este es el caso típico en que los valores de R2 son similares\n",
    "# El p valor es tan alto que podemos aceptar la hipóteiss nula\n",
    "\n",
    "# Veamos el error\n",
    "\n",
    "sales_pred = lm4.predict(data[[\"TV\",\"Radio\",\"Newspaper\"]])\n",
    "SSD = sum((data[\"Sales\"]-sales_pred)**2)\n",
    "RSE = np.sqrt(SSD/(len(data)-3-1))\n",
    "RSE"
   ]
  },
  {
   "cell_type": "code",
   "execution_count": 38,
   "metadata": {},
   "outputs": [
    {
     "data": {
      "text/plain": [
       "0.12020041885646236"
      ]
     },
     "execution_count": 38,
     "metadata": {},
     "output_type": "execute_result"
    }
   ],
   "source": [
    "error = RSE/sales_m\n",
    "error"
   ]
  },
  {
   "cell_type": "code",
   "execution_count": 39,
   "metadata": {},
   "outputs": [],
   "source": [
    "# este modelo deja de explicar el 12% de los datos, a diferencia del 11%.\n",
    "# Esto significa que agregar el Newspaper nos resta en el modelo en relación a Sales ~ TV+Radio\n"
   ]
  },
  {
   "cell_type": "markdown",
   "metadata": {},
   "source": [
    "# Multicolinealidad\n",
    " Es la razón de que nuestro modelo se haya comportado peor con el periódico.\n",
    " Hace referencia a la correlación entre variables predictoras del modelo.\n",
    " \n",
    " La correlación entre Radio y Newspaper:\n",
    " "
   ]
  },
  {
   "cell_type": "code",
   "execution_count": 40,
   "metadata": {},
   "outputs": [
    {
     "data": {
      "text/html": [
       "<div>\n",
       "<style scoped>\n",
       "    .dataframe tbody tr th:only-of-type {\n",
       "        vertical-align: middle;\n",
       "    }\n",
       "\n",
       "    .dataframe tbody tr th {\n",
       "        vertical-align: top;\n",
       "    }\n",
       "\n",
       "    .dataframe thead th {\n",
       "        text-align: right;\n",
       "    }\n",
       "</style>\n",
       "<table border=\"1\" class=\"dataframe\">\n",
       "  <thead>\n",
       "    <tr style=\"text-align: right;\">\n",
       "      <th></th>\n",
       "      <th>TV</th>\n",
       "      <th>Radio</th>\n",
       "      <th>Newspaper</th>\n",
       "      <th>Sales</th>\n",
       "      <th>sales_pred</th>\n",
       "      <th>RSE</th>\n",
       "    </tr>\n",
       "  </thead>\n",
       "  <tbody>\n",
       "    <tr>\n",
       "      <th>TV</th>\n",
       "      <td>1.000000</td>\n",
       "      <td>0.054809</td>\n",
       "      <td>0.056648</td>\n",
       "      <td>0.782224</td>\n",
       "      <td>1.000000</td>\n",
       "      <td>0.490091</td>\n",
       "    </tr>\n",
       "    <tr>\n",
       "      <th>Radio</th>\n",
       "      <td>0.054809</td>\n",
       "      <td>1.000000</td>\n",
       "      <td>0.354104</td>\n",
       "      <td>0.576223</td>\n",
       "      <td>0.054809</td>\n",
       "      <td>0.079114</td>\n",
       "    </tr>\n",
       "    <tr>\n",
       "      <th>Newspaper</th>\n",
       "      <td>0.056648</td>\n",
       "      <td>0.354104</td>\n",
       "      <td>1.000000</td>\n",
       "      <td>0.228299</td>\n",
       "      <td>0.056648</td>\n",
       "      <td>0.056557</td>\n",
       "    </tr>\n",
       "    <tr>\n",
       "      <th>Sales</th>\n",
       "      <td>0.782224</td>\n",
       "      <td>0.576223</td>\n",
       "      <td>0.228299</td>\n",
       "      <td>1.000000</td>\n",
       "      <td>0.782224</td>\n",
       "      <td>0.341942</td>\n",
       "    </tr>\n",
       "    <tr>\n",
       "      <th>sales_pred</th>\n",
       "      <td>1.000000</td>\n",
       "      <td>0.054809</td>\n",
       "      <td>0.056648</td>\n",
       "      <td>0.782224</td>\n",
       "      <td>1.000000</td>\n",
       "      <td>0.490091</td>\n",
       "    </tr>\n",
       "    <tr>\n",
       "      <th>RSE</th>\n",
       "      <td>0.490091</td>\n",
       "      <td>0.079114</td>\n",
       "      <td>0.056557</td>\n",
       "      <td>0.341942</td>\n",
       "      <td>0.490091</td>\n",
       "      <td>1.000000</td>\n",
       "    </tr>\n",
       "  </tbody>\n",
       "</table>\n",
       "</div>"
      ],
      "text/plain": [
       "                  TV     Radio  Newspaper     Sales  sales_pred       RSE\n",
       "TV          1.000000  0.054809   0.056648  0.782224    1.000000  0.490091\n",
       "Radio       0.054809  1.000000   0.354104  0.576223    0.054809  0.079114\n",
       "Newspaper   0.056648  0.354104   1.000000  0.228299    0.056648  0.056557\n",
       "Sales       0.782224  0.576223   0.228299  1.000000    0.782224  0.341942\n",
       "sales_pred  1.000000  0.054809   0.056648  0.782224    1.000000  0.490091\n",
       "RSE         0.490091  0.079114   0.056557  0.341942    0.490091  1.000000"
      ]
     },
     "execution_count": 40,
     "metadata": {},
     "output_type": "execute_result"
    }
   ],
   "source": [
    "data.corr()"
   ]
  },
  {
   "cell_type": "code",
   "execution_count": 41,
   "metadata": {},
   "outputs": [
    {
     "data": {
      "text/plain": [
       "<matplotlib.image.AxesImage at 0x7f4be69b29d0>"
      ]
     },
     "execution_count": 41,
     "metadata": {},
     "output_type": "execute_result"
    },
    {
     "data": {
      "image/png": "[encoded data removed]",
      "text/plain": [
       "<Figure size 288x288 with 1 Axes>"
      ]
     },
     "metadata": {
      "needs_background": "light"
     },
     "output_type": "display_data"
    }
   ],
   "source": [
    "plt.matshow(data.corr())"
   ]
  },
  {
   "cell_type": "markdown",
   "metadata": {},
   "source": [
    "Radio y newspaper tienen una correlación alta (3.53, valor alto). Esta correlación entre las variables predictoras, hace que una interactua negativamente con la otra.\n",
    "\n",
    "Una de las dos variables deben eliminarse del modelo."
   ]
  },
  {
   "cell_type": "code",
   "execution_count": 42,
   "metadata": {},
   "outputs": [],
   "source": [
    "# Newspapes ~ TV + Radio nos da problemas. Calculamos este modelo lineal y su respectivo R**2 para calcular el \n",
    "# VIF = 1/(1-R**2) para todos los modelos:\n",
    "# Newspapes ~ TV + Radio\n",
    "# TV ~ newspaper + Radio\n",
    "# Radio ~ TV + Newspaper\n",
    "\n",
    "# Si VIF = 1: Las variables no están correlacionadas\n",
    "# Si VIF < 5 : Las variables tienen una corelación moderara y se pueden quedar en el modelo\n",
    "# SI VIF > 5 : Las variables están altamente correlacionadas y deben desaparecer del modelo"
   ]
  },
  {
   "cell_type": "code",
   "execution_count": 43,
   "metadata": {},
   "outputs": [
    {
     "data": {
      "text/plain": [
       "1.1451873787239288"
      ]
     },
     "execution_count": 43,
     "metadata": {},
     "output_type": "execute_result"
    }
   ],
   "source": [
    "lm_n = smf.ols(formula=\"Newspaper~TV+Radio\", data=data).fit()\n",
    "rsquared_n = lm_n.rsquared\n",
    "VIF = 1/(1-rsquared_n)\n",
    "VIF"
   ]
  },
  {
   "cell_type": "code",
   "execution_count": 44,
   "metadata": {},
   "outputs": [
    {
     "data": {
      "text/plain": [
       "1.00461078493965"
      ]
     },
     "execution_count": 44,
     "metadata": {},
     "output_type": "execute_result"
    }
   ],
   "source": [
    "lm_t = smf.ols(formula=\"TV~Newspaper+Radio\", data=data).fit()\n",
    "rsquared_t = lm_t.rsquared\n",
    "VIF = 1/(1-rsquared_t)\n",
    "VIF"
   ]
  },
  {
   "cell_type": "code",
   "execution_count": 45,
   "metadata": {},
   "outputs": [
    {
     "data": {
      "text/plain": [
       "1.1449519171055353"
      ]
     },
     "execution_count": 45,
     "metadata": {},
     "output_type": "execute_result"
    }
   ],
   "source": [
    "lm_r = smf.ols(formula=\"Radio~TV+Newspaper\", data=data).fit()\n",
    "rsquared_r = lm_r.rsquared\n",
    "VIF = 1/(1-rsquared_r)\n",
    "VIF"
   ]
  },
  {
   "cell_type": "code",
   "execution_count": 46,
   "metadata": {},
   "outputs": [
    {
     "data": {
      "text/html": [
       "<table class=\"simpletable\">\n",
       "<caption>OLS Regression Results</caption>\n",
       "<tr>\n",
       "  <th>Dep. Variable:</th>          <td>Sales</td>      <th>  R-squared:         </th> <td>   0.897</td>\n",
       "</tr>\n",
       "<tr>\n",
       "  <th>Model:</th>                   <td>OLS</td>       <th>  Adj. R-squared:    </th> <td>   0.896</td>\n",
       "</tr>\n",
       "<tr>\n",
       "  <th>Method:</th>             <td>Least Squares</td>  <th>  F-statistic:       </th> <td>   859.6</td>\n",
       "</tr>\n",
       "<tr>\n",
       "  <th>Date:</th>             <td>Tue, 04 Aug 2020</td> <th>  Prob (F-statistic):</th> <td>4.83e-98</td>\n",
       "</tr>\n",
       "<tr>\n",
       "  <th>Time:</th>                 <td>09:08:26</td>     <th>  Log-Likelihood:    </th> <td> -386.20</td>\n",
       "</tr>\n",
       "<tr>\n",
       "  <th>No. Observations:</th>      <td>   200</td>      <th>  AIC:               </th> <td>   778.4</td>\n",
       "</tr>\n",
       "<tr>\n",
       "  <th>Df Residuals:</th>          <td>   197</td>      <th>  BIC:               </th> <td>   788.3</td>\n",
       "</tr>\n",
       "<tr>\n",
       "  <th>Df Model:</th>              <td>     2</td>      <th>                     </th>     <td> </td>   \n",
       "</tr>\n",
       "<tr>\n",
       "  <th>Covariance Type:</th>      <td>nonrobust</td>    <th>                     </th>     <td> </td>   \n",
       "</tr>\n",
       "</table>\n",
       "<table class=\"simpletable\">\n",
       "<tr>\n",
       "      <td></td>         <th>coef</th>     <th>std err</th>      <th>t</th>      <th>P>|t|</th>  <th>[0.025</th>    <th>0.975]</th>  \n",
       "</tr>\n",
       "<tr>\n",
       "  <th>Intercept</th> <td>    2.9211</td> <td>    0.294</td> <td>    9.919</td> <td> 0.000</td> <td>    2.340</td> <td>    3.502</td>\n",
       "</tr>\n",
       "<tr>\n",
       "  <th>TV</th>        <td>    0.0458</td> <td>    0.001</td> <td>   32.909</td> <td> 0.000</td> <td>    0.043</td> <td>    0.048</td>\n",
       "</tr>\n",
       "<tr>\n",
       "  <th>Radio</th>     <td>    0.1880</td> <td>    0.008</td> <td>   23.382</td> <td> 0.000</td> <td>    0.172</td> <td>    0.204</td>\n",
       "</tr>\n",
       "</table>\n",
       "<table class=\"simpletable\">\n",
       "<tr>\n",
       "  <th>Omnibus:</th>       <td>60.022</td> <th>  Durbin-Watson:     </th> <td>   2.081</td>\n",
       "</tr>\n",
       "<tr>\n",
       "  <th>Prob(Omnibus):</th> <td> 0.000</td> <th>  Jarque-Bera (JB):  </th> <td> 148.679</td>\n",
       "</tr>\n",
       "<tr>\n",
       "  <th>Skew:</th>          <td>-1.323</td> <th>  Prob(JB):          </th> <td>5.19e-33</td>\n",
       "</tr>\n",
       "<tr>\n",
       "  <th>Kurtosis:</th>      <td> 6.292</td> <th>  Cond. No.          </th> <td>    425.</td>\n",
       "</tr>\n",
       "</table><br/><br/>Warnings:<br/>[1] Standard Errors assume that the covariance matrix of the errors is correctly specified."
      ],
      "text/plain": [
       "<class 'statsmodels.iolib.summary.Summary'>\n",
       "\"\"\"\n",
       "                            OLS Regression Results                            \n",
       "==============================================================================\n",
       "Dep. Variable:                  Sales   R-squared:                       0.897\n",
       "Model:                            OLS   Adj. R-squared:                  0.896\n",
       "Method:                 Least Squares   F-statistic:                     859.6\n",
       "Date:                Tue, 04 Aug 2020   Prob (F-statistic):           4.83e-98\n",
       "Time:                        09:08:26   Log-Likelihood:                -386.20\n",
       "No. Observations:                 200   AIC:                             778.4\n",
       "Df Residuals:                     197   BIC:                             788.3\n",
       "Df Model:                           2                                         \n",
       "Covariance Type:            nonrobust                                         \n",
       "==============================================================================\n",
       "                 coef    std err          t      P>|t|      [0.025      0.975]\n",
       "------------------------------------------------------------------------------\n",
       "Intercept      2.9211      0.294      9.919      0.000       2.340       3.502\n",
       "TV             0.0458      0.001     32.909      0.000       0.043       0.048\n",
       "Radio          0.1880      0.008     23.382      0.000       0.172       0.204\n",
       "==============================================================================\n",
       "Omnibus:                       60.022   Durbin-Watson:                   2.081\n",
       "Prob(Omnibus):                  0.000   Jarque-Bera (JB):              148.679\n",
       "Skew:                          -1.323   Prob(JB):                     5.19e-33\n",
       "Kurtosis:                       6.292   Cond. No.                         425.\n",
       "==============================================================================\n",
       "\n",
       "Warnings:\n",
       "[1] Standard Errors assume that the covariance matrix of the errors is correctly specified.\n",
       "\"\"\""
      ]
     },
     "execution_count": 46,
     "metadata": {},
     "output_type": "execute_result"
    }
   ],
   "source": [
    "# El VIF de la radio y de Newspaper tienen casi el mismo VIF, por lo que están altamente correlacionadas.\n",
    "# Entre quedarnos con uno u otro nos quedamos con Sales~TV y Radio\n",
    "lm3.summary()"
   ]
  },
  {
   "cell_type": "code",
   "execution_count": null,
   "metadata": {},
   "outputs": [],
   "source": []
  }
 ],
 "metadata": {
  "kernelspec": {
   "display_name": "Python 3",
   "language": "python",
   "name": "python3"
  },
  "language_info": {
   "codemirror_mode": {
    "name": "ipython",
    "version": 3
   },
   "file_extension": ".py",
   "mimetype": "text/x-python",
   "name": "python",
   "nbconvert_exporter": "python",
   "pygments_lexer": "ipython3",
   "version": "3.7.6"
  }
 },
 "nbformat": 4,
 "nbformat_minor": 4
}
