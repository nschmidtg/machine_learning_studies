{
 "cells": [
  {
   "cell_type": "markdown",
   "metadata": {},
   "source": [
    "# El método de k-means\n",
    "\n",
    "Hay que definir manualmente los k clusters y se calculan los centroides de la etapa inicial del modelo.\n",
    "\n",
    "Los centroides se actualizarán en función de que se vayan agregando elementos al cluster y re calculamos el centroide del cluster.\n",
    "\n",
    "Los centroides se definen \"manualmente\" o de forma aleatoria\n",
    "\n",
    "Se busca minimizar la distancia (suma de cuadrados internos) de cada punto al baricentro del cluster."
   ]
  },
  {
   "cell_type": "code",
   "execution_count": 1,
   "metadata": {},
   "outputs": [],
   "source": [
    "import numpy as np"
   ]
  },
  {
   "cell_type": "code",
   "execution_count": 2,
   "metadata": {},
   "outputs": [
    {
     "data": {
      "text/plain": [
       "array([[0.66319101, 0.14499632, 0.65692638],\n",
       "       [0.93565557, 0.71557492, 0.40614534],\n",
       "       [0.5243542 , 0.18331009, 0.95555681],\n",
       "       [0.3439766 , 0.29307379, 0.2886051 ],\n",
       "       [0.33457261, 0.64081649, 0.23794115],\n",
       "       [0.93660799, 0.56001365, 0.73756038],\n",
       "       [0.17535338, 0.76539113, 0.22597379],\n",
       "       [0.94253463, 0.30164494, 0.301445  ],\n",
       "       [0.89012053, 0.46286507, 0.67930717],\n",
       "       [0.29645601, 0.56521031, 0.65679277],\n",
       "       [0.568154  , 0.82465636, 0.49622153],\n",
       "       [0.00817741, 0.86795162, 0.69284482],\n",
       "       [0.47509833, 0.28996377, 0.35917303],\n",
       "       [0.97295909, 0.97521279, 0.48188969],\n",
       "       [0.97971523, 0.45573814, 0.97406444],\n",
       "       [0.6656433 , 0.33101704, 0.42804891],\n",
       "       [0.52613967, 0.28694739, 0.78579028],\n",
       "       [0.17900538, 0.86173992, 0.81970206],\n",
       "       [0.10245661, 0.73736998, 0.74855685],\n",
       "       [0.95158036, 0.91942619, 0.88313437],\n",
       "       [0.78976645, 0.29802575, 0.73835056],\n",
       "       [0.80935699, 0.4165753 , 0.03127791],\n",
       "       [0.80702041, 0.10118332, 0.36532863],\n",
       "       [0.34284148, 0.39378322, 0.5653963 ],\n",
       "       [0.6264379 , 0.57719254, 0.51764053],\n",
       "       [0.65877552, 0.88257928, 0.08295265],\n",
       "       [0.70759919, 0.69305708, 0.26689589],\n",
       "       [0.38791409, 0.38901415, 0.7905951 ],\n",
       "       [0.26184556, 0.67119776, 0.67311927],\n",
       "       [0.92118521, 0.44369646, 0.4299893 ]])"
      ]
     },
     "execution_count": 2,
     "metadata": {},
     "output_type": "execute_result"
    }
   ],
   "source": [
    "data = np.random.random(90).reshape(30,3)\n",
    "data"
   ]
  },
  {
   "cell_type": "code",
   "execution_count": 3,
   "metadata": {},
   "outputs": [
    {
     "data": {
      "text/plain": [
       "array([[0.70759919, 0.69305708, 0.26689589],\n",
       "       [0.33457261, 0.64081649, 0.23794115]])"
      ]
     },
     "execution_count": 3,
     "metadata": {},
     "output_type": "execute_result"
    }
   ],
   "source": [
    "# nuestra data tiene 3 dimensiones\n",
    "\n",
    "c1 = np.random.choice(range(len(data))) # elegimos un punto aleatorio como centroide 1\n",
    "c2 = np.random.choice(range(len(data))) # centroide 2, tengo k=2 clusters\n",
    "clust_centers = np.vstack([data[c1], data[c2]]) # ojo que podrían haber salido el mismo número!\n",
    "clust_centers"
   ]
  },
  {
   "cell_type": "code",
   "execution_count": 4,
   "metadata": {},
   "outputs": [],
   "source": [
    "from scipy.cluster.vq import vq"
   ]
  },
  {
   "cell_type": "code",
   "execution_count": 6,
   "metadata": {},
   "outputs": [
    {
     "data": {
      "text/plain": [
       "(array([0, 0, 1, 1, 1, 0, 1, 0, 0, 1, 0, 1, 1, 0, 0, 0, 1, 1, 1, 0, 0, 0,\n",
       "        0, 1, 0, 0, 0, 1, 1, 0], dtype=int32),\n",
       " array([0.67414128, 0.26815512, 0.87195264, 0.35153984, 0.        ,\n",
       "        0.54006541, 0.20251623, 0.45781193, 0.5063452 , 0.42732405,\n",
       "        0.29892069, 0.60420323, 0.39691596, 0.44300119, 0.79401182,\n",
       "        0.39850167, 0.67974991, 0.64144686, 0.56914744, 0.70037107,\n",
       "        0.62054066, 0.3772435 , 0.60818429, 0.41026904, 0.28789689,\n",
       "        0.26858431, 0.        , 0.60965245, 0.44225811, 0.36660492]))"
      ]
     },
     "execution_count": 6,
     "metadata": {},
     "output_type": "execute_result"
    }
   ],
   "source": [
    "clusters = vq(data, clust_centers) #vq nos minimiza la distancia entre los elementos del cluster en \n",
    "# relación al baricentro\n",
    "clusters"
   ]
  },
  {
   "cell_type": "code",
   "execution_count": 7,
   "metadata": {},
   "outputs": [
    {
     "data": {
      "text/plain": [
       "array([0, 0, 1, 1, 1, 0, 1, 0, 0, 1, 0, 1, 1, 0, 0, 0, 1, 1, 1, 0, 0, 0,\n",
       "       0, 1, 0, 0, 0, 1, 1, 0], dtype=int32)"
      ]
     },
     "execution_count": 7,
     "metadata": {},
     "output_type": "execute_result"
    }
   ],
   "source": [
    "# primer arreglo es la pertenencia de los 30 puntos a un cluster u otro\n",
    "# segundo arreglo me sale la distancia entre lospuntos y el baricentro final (luego de las iteraciones)\n",
    "# nos dió que ambos puntos son baricentros del sistema (tenemos 2 elementos con distancia 0)\n",
    "labels = clusters[0]\n",
    "labels"
   ]
  },
  {
   "cell_type": "code",
   "execution_count": 9,
   "metadata": {},
   "outputs": [],
   "source": [
    "from scipy.cluster.vq import kmeans\n",
    "kmeans(data, clust_centers)"
   ]
  },
  {
   "cell_type": "code",
   "execution_count": 10,
   "metadata": {},
   "outputs": [
    {
     "data": {
      "text/plain": [
       "(array([[0.81331196, 0.53549736, 0.49865757],\n",
       "        [0.30447626, 0.53428997, 0.60000364]]),\n",
       " 0.3508822380190859)"
      ]
     },
     "execution_count": 10,
     "metadata": {},
     "output_type": "execute_result"
    }
   ],
   "source": [
    "from scipy.cluster.vq import kmeans\n",
    "cl = kmeans(data, clust_centers)\n",
    "cl\n",
    "# me da los baricentros finales de los clusters\n",
    "# segundo valor es el valor de la suma de las distancias de los cuadrados"
   ]
  },
  {
   "cell_type": "code",
   "execution_count": 11,
   "metadata": {},
   "outputs": [
    {
     "data": {
      "text/plain": [
       "(array([[0.32331038, 0.55503043, 0.59259063],\n",
       "        [0.82863434, 0.51742493, 0.49880982]]),\n",
       " 0.35065978611686843)"
      ]
     },
     "execution_count": 11,
     "metadata": {},
     "output_type": "execute_result"
    }
   ],
   "source": [
    "# también puedo usar kmeans(data, 2) pasando 2 como el valor de k y el aleatoriamente define los baricentros.\n",
    "kmeans(data, 2)"
   ]
  },
  {
   "cell_type": "code",
   "execution_count": 12,
   "metadata": {},
   "outputs": [],
   "source": [
    "\n",
    "import chart_studio.plotly as py\n",
    "import plotly.graph_objs as go\n",
    "import plotly.offline as ply"
   ]
  },
  {
   "cell_type": "code",
   "execution_count": 13,
   "metadata": {},
   "outputs": [
    {
     "name": "stderr",
     "output_type": "stream",
     "text": [
      "/home/user/anaconda3/lib/python3.8/site-packages/plotly/offline/offline.py:562: UserWarning:\n",
      "\n",
      "Your filename `Clusters` didn't end with .html. Adding .html to the end of your file.\n",
      "\n"
     ]
    },
    {
     "data": {
      "text/plain": [
       "'Clusters.html'"
      ]
     },
     "execution_count": 13,
     "metadata": {},
     "output_type": "execute_result"
    }
   ],
   "source": [
    "x = []\n",
    "y = []\n",
    "z = []\n",
    "x2 = []\n",
    "y2 = []\n",
    "z2 = []\n",
    "\n",
    "for i in range(0, len(labels)):\n",
    "    if(labels[i] == 0):\n",
    "        x.append(data[i,0])\n",
    "        y.append(data[i,1])\n",
    "        z.append(data[i,2])\n",
    "        \n",
    "    else:\n",
    "        x2.append(data[i,0])\n",
    "        y2.append(data[i,1])\n",
    "        z2.append(data[i,2])\n",
    "\n",
    "cluster1 = go.Scatter3d(\n",
    "    x=x,\n",
    "    y=y,\n",
    "    z=z,\n",
    "    mode='markers',\n",
    "    marker=dict(\n",
    "        size=12,\n",
    "        line=dict(\n",
    "            color='rgba(217, 217, 217, 0.14)',\n",
    "            width=0.5\n",
    "        ),\n",
    "        opacity=0.9\n",
    "    ),\n",
    "    name=\"Cluster 0\"\n",
    ")\n",
    "\n",
    "\n",
    "cluster2 = go.Scatter3d(\n",
    "    x=x2,\n",
    "    y=y2,\n",
    "    z=z2,\n",
    "    mode='markers',\n",
    "    marker=dict(\n",
    "        color='rgb(127, 127, 127)',\n",
    "        size=12,\n",
    "        symbol='circle',\n",
    "        line=dict(\n",
    "            color='rgb(204, 204, 204)',\n",
    "            width=1\n",
    "        ),\n",
    "        opacity=0.9\n",
    "    ),\n",
    "    name=\"Cluster 1\"\n",
    ")\n",
    "data2 = [cluster1, cluster2]\n",
    "layout = go.Layout(\n",
    "    margin=dict(\n",
    "        l=0,\n",
    "        r=0,\n",
    "        b=0,\n",
    "        t=30\n",
    "    )\n",
    ")\n",
    "\n",
    "fig = go.Figure(data=data2, layout=layout)\n",
    "ply.plot(fig, filename='Clusters')\n"
   ]
  },
  {
   "cell_type": "code",
   "execution_count": 14,
   "metadata": {},
   "outputs": [],
   "source": [
    "from scipy.cluster.vq import kmeans"
   ]
  },
  {
   "cell_type": "code",
   "execution_count": 15,
   "metadata": {},
   "outputs": [
    {
     "data": {
      "text/plain": [
       "(array([[0.81331196, 0.53549736, 0.49865757],\n",
       "        [0.30447626, 0.53428997, 0.60000364]]),\n",
       " 0.3508822380190859)"
      ]
     },
     "execution_count": 15,
     "metadata": {},
     "output_type": "execute_result"
    }
   ],
   "source": [
    "kmeans(data, clust_centers)"
   ]
  },
  {
   "cell_type": "code",
   "execution_count": 16,
   "metadata": {},
   "outputs": [
    {
     "data": {
      "text/plain": [
       "(array([[0.81331196, 0.53549736, 0.49865757],\n",
       "        [0.30447626, 0.53428997, 0.60000364]]),\n",
       " 0.3508822380190859)"
      ]
     },
     "execution_count": 16,
     "metadata": {},
     "output_type": "execute_result"
    }
   ],
   "source": [
    "kmeans(data, 2)"
   ]
  },
  {
   "cell_type": "code",
   "execution_count": null,
   "metadata": {},
   "outputs": [],
   "source": []
  }
 ],
 "metadata": {
  "kernelspec": {
   "display_name": "Python 3",
   "language": "python",
   "name": "python3"
  },
  "language_info": {
   "codemirror_mode": {
    "name": "ipython",
    "version": 3
   },
   "file_extension": ".py",
   "mimetype": "text/x-python",
   "name": "python",
   "nbconvert_exporter": "python",
   "pygments_lexer": "ipython3",
   "version": "3.8.3"
  }
 },
 "nbformat": 4,
 "nbformat_minor": 2
}
