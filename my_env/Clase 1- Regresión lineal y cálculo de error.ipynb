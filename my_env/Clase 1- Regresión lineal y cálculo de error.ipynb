{
 "cells": [
  {
   "cell_type": "code",
   "execution_count": 1,
   "metadata": {},
   "outputs": [],
   "source": [
    "import pandas as pd\n",
    "import numpy as np"
   ]
  },
  {
   "cell_type": "code",
   "execution_count": 4,
   "metadata": {},
   "outputs": [
    {
     "data": {
      "text/plain": [
       "array([ 2.68243851, -4.09552846,  1.62478272, -0.12038913,  4.97497493,\n",
       "       -1.12762949, -0.93229476,  4.44643794,  1.07844089, -2.97156705,\n",
       "        4.01402796, -0.20627317,  4.77950459,  1.86386322,  3.71935228,\n",
       "       -0.41803376,  1.62182276, -0.63859059, -0.54565372, -1.78013141,\n",
       "        0.32877398,  4.00247655, -1.28052756, -2.70125741,  3.06786733,\n",
       "       -0.27782144,  3.58660144,  0.785535  ,  2.51739088,  3.08189398,\n",
       "        1.94921591,  4.20253798, -0.16130094,  0.1720185 ,  1.8371573 ,\n",
       "        2.5357874 ,  1.80860509,  0.45173081,  1.74945838,  1.71372665,\n",
       "        6.37784277, -1.26191095,  7.90968717,  1.48278081,  0.37834979,\n",
       "        4.86715238,  1.36254688, -0.11805553,  1.58559022,  1.15649929,\n",
       "        2.4626299 ,  3.09304511,  0.17076784, -0.22312744,  2.94976736,\n",
       "       -0.23421462,  0.54456701,  3.77653838,  2.08739063,  1.32241438,\n",
       "        6.7654751 ,  8.788161  ,  1.57119231,  3.73586519,  0.57504995,\n",
       "        5.07606147,  1.22959722,  1.55378397,  1.13786346,  1.76618556,\n",
       "        3.31204013,  3.08355144,  0.28254991,  1.40023254, -0.92226661,\n",
       "       -0.11016334,  3.5064109 , -2.95455543,  2.55057061,  6.00315674,\n",
       "       -0.5011551 ,  3.96620303,  2.8108743 ,  3.47517915,  1.45945504,\n",
       "       -0.28049875,  2.91149118, -1.97576633,  3.13851321,  2.17401909,\n",
       "        2.39413166,  2.59376539, -2.81667436,  0.02408638,  3.22532512,\n",
       "        1.66315427,  0.12481795,  1.06857842, -1.23318396,  0.31335094])"
      ]
     },
     "execution_count": 4,
     "metadata": {},
     "output_type": "execute_result"
    }
   ],
   "source": [
    "x = 1.5 + 2.5 * np.random.randn(100)\n",
    "x"
   ]
  },
  {
   "cell_type": "code",
   "execution_count": 5,
   "metadata": {},
   "outputs": [],
   "source": [
    "res = 0 + 0.8 * np.random.randn(100)\n",
    "y_pred = 5 + 1.9 * x\n",
    "y_act = 5 + 1.9 * x + res\n",
    "x_list = x.tolist()\n",
    "y_pred_list = y_pred.tolist()\n",
    "y_act_list = y_act.tolist()"
   ]
  },
  {
   "cell_type": "code",
   "execution_count": 6,
   "metadata": {
    "scrolled": true
   },
   "outputs": [
    {
     "data": {
      "text/plain": [
       "[5.869665281199904,\n",
       " 1.0883607405690738,\n",
       " 12.076826579244567,\n",
       " 0.48656755131665896,\n",
       " 12.646509956082648,\n",
       " 9.520833564666457,\n",
       " 11.33174496833026,\n",
       " 0.14577158210419672,\n",
       " 4.441332742265842,\n",
       " 6.887496410666889,\n",
       " 4.163010088482461,\n",
       " 9.352858234180513,\n",
       " 5.63931122394873,\n",
       " 1.6308327805971823,\n",
       " 9.852168955298003,\n",
       " 8.164471421797685,\n",
       " 7.9539146322587175,\n",
       " 16.168747622724624,\n",
       " 9.209149864933593,\n",
       " 6.864509381866243,\n",
       " 13.610357221930366,\n",
       " 15.366745213054857,\n",
       " -2.087000317617136,\n",
       " -2.164811615768798,\n",
       " 5.37567605967606,\n",
       " 17.9342022279407,\n",
       " 9.746291385419187,\n",
       " 11.73149212462831,\n",
       " 0.9010435688628542,\n",
       " 7.709758017425981,\n",
       " 6.391275313466291,\n",
       " 1.7424817799066896,\n",
       " 12.692728606126629,\n",
       " 11.635854475980278,\n",
       " 11.879030710096455,\n",
       " -2.2822898233839517,\n",
       " 0.7586672835066599,\n",
       " 2.956902781766879,\n",
       " 3.281310245098225,\n",
       " 1.9839313729714232,\n",
       " 5.479002700184804,\n",
       " 3.413902639510077,\n",
       " 6.543824545220799,\n",
       " 6.825462997349945,\n",
       " 2.883395600161569,\n",
       " 16.45130770014407,\n",
       " 5.107283288519289,\n",
       " 11.62894190130733,\n",
       " 9.06730678211678,\n",
       " 10.44283526579033,\n",
       " 6.817832360007649,\n",
       " 11.627712167726738,\n",
       " 17.245077158811775,\n",
       " 12.781162301861688,\n",
       " 7.827352551098592,\n",
       " 0.39123730085631436,\n",
       " 10.140511128069333,\n",
       " 5.710519575985239,\n",
       " 7.952124674714344,\n",
       " 22.8003208066832,\n",
       " -1.409694302996619,\n",
       " 11.152036222891706,\n",
       " 4.86905555026867,\n",
       " 5.746878723271718,\n",
       " 16.197034276612094,\n",
       " 6.916469231349492,\n",
       " 10.34401575197631,\n",
       " 11.174575408257454,\n",
       " 13.045733226305508,\n",
       " 5.620733170778535,\n",
       " 9.457925004092536,\n",
       " 13.041841044058732,\n",
       " 16.64459316956961,\n",
       " 9.380799321483117,\n",
       " 6.260520153258541,\n",
       " 6.6188408336207125,\n",
       " 1.6031124608943772,\n",
       " 7.592832171742774,\n",
       " 9.305780404301217,\n",
       " 6.181584915136602,\n",
       " 10.269077212252974,\n",
       " 2.420968017873921,\n",
       " 12.43118675676822,\n",
       " 14.498014866867402,\n",
       " 8.11099157849031,\n",
       " 8.63234020883288,\n",
       " 6.02228620042276,\n",
       " 10.44415836759525,\n",
       " 5.4369873090246115,\n",
       " 5.326405626651051,\n",
       " 11.966491476190289,\n",
       " 14.55345261043381,\n",
       " 5.695424300215938,\n",
       " 7.832886846551348,\n",
       " 5.500126946952388,\n",
       " 5.6891825788423285,\n",
       " 9.71565704285075,\n",
       " 7.913596732305297,\n",
       " -3.524429087096669,\n",
       " 12.946758718077463]"
      ]
     },
     "execution_count": 6,
     "metadata": {},
     "output_type": "execute_result"
    }
   ],
   "source": [
    "y_act_list"
   ]
  },
  {
   "cell_type": "code",
   "execution_count": 7,
   "metadata": {},
   "outputs": [],
   "source": [
    "data = pd.DataFrame(\n",
    "    \n",
    "    {\n",
    "        \"x\": x_list,\n",
    "        \"y\": y_act_list,\n",
    "        \"y_pred\": y_pred_list\n",
    "    }\n",
    ")"
   ]
  },
  {
   "cell_type": "code",
   "execution_count": 13,
   "metadata": {},
   "outputs": [
    {
     "data": {
      "text/html": [
       "<div>\n",
       "<style scoped>\n",
       "    .dataframe tbody tr th:only-of-type {\n",
       "        vertical-align: middle;\n",
       "    }\n",
       "\n",
       "    .dataframe tbody tr th {\n",
       "        vertical-align: top;\n",
       "    }\n",
       "\n",
       "    .dataframe thead th {\n",
       "        text-align: right;\n",
       "    }\n",
       "</style>\n",
       "<table border=\"1\" class=\"dataframe\">\n",
       "  <thead>\n",
       "    <tr style=\"text-align: right;\">\n",
       "      <th></th>\n",
       "      <th>x</th>\n",
       "      <th>y</th>\n",
       "      <th>y_pred</th>\n",
       "    </tr>\n",
       "  </thead>\n",
       "  <tbody>\n",
       "    <tr>\n",
       "      <th>0</th>\n",
       "      <td>0.457719</td>\n",
       "      <td>5.869665</td>\n",
       "      <td>5.869665</td>\n",
       "    </tr>\n",
       "    <tr>\n",
       "      <th>1</th>\n",
       "      <td>-2.058758</td>\n",
       "      <td>1.088361</td>\n",
       "      <td>1.088361</td>\n",
       "    </tr>\n",
       "    <tr>\n",
       "      <th>2</th>\n",
       "      <td>3.724646</td>\n",
       "      <td>12.076827</td>\n",
       "      <td>12.076827</td>\n",
       "    </tr>\n",
       "    <tr>\n",
       "      <th>3</th>\n",
       "      <td>-2.375491</td>\n",
       "      <td>0.486568</td>\n",
       "      <td>0.486568</td>\n",
       "    </tr>\n",
       "    <tr>\n",
       "      <th>4</th>\n",
       "      <td>4.024479</td>\n",
       "      <td>12.646510</td>\n",
       "      <td>12.646510</td>\n",
       "    </tr>\n",
       "    <tr>\n",
       "      <th>...</th>\n",
       "      <td>...</td>\n",
       "      <td>...</td>\n",
       "      <td>...</td>\n",
       "    </tr>\n",
       "    <tr>\n",
       "      <th>95</th>\n",
       "      <td>0.362728</td>\n",
       "      <td>5.689183</td>\n",
       "      <td>5.689183</td>\n",
       "    </tr>\n",
       "    <tr>\n",
       "      <th>96</th>\n",
       "      <td>2.481925</td>\n",
       "      <td>9.715657</td>\n",
       "      <td>9.715657</td>\n",
       "    </tr>\n",
       "    <tr>\n",
       "      <th>97</th>\n",
       "      <td>1.533472</td>\n",
       "      <td>7.913597</td>\n",
       "      <td>7.913597</td>\n",
       "    </tr>\n",
       "    <tr>\n",
       "      <th>98</th>\n",
       "      <td>-4.486542</td>\n",
       "      <td>-3.524429</td>\n",
       "      <td>-3.524429</td>\n",
       "    </tr>\n",
       "    <tr>\n",
       "      <th>99</th>\n",
       "      <td>4.182505</td>\n",
       "      <td>12.946759</td>\n",
       "      <td>12.946759</td>\n",
       "    </tr>\n",
       "  </tbody>\n",
       "</table>\n",
       "<p>100 rows × 3 columns</p>\n",
       "</div>"
      ],
      "text/plain": [
       "           x          y     y_pred\n",
       "0   0.457719   5.869665   5.869665\n",
       "1  -2.058758   1.088361   1.088361\n",
       "2   3.724646  12.076827  12.076827\n",
       "3  -2.375491   0.486568   0.486568\n",
       "4   4.024479  12.646510  12.646510\n",
       "..       ...        ...        ...\n",
       "95  0.362728   5.689183   5.689183\n",
       "96  2.481925   9.715657   9.715657\n",
       "97  1.533472   7.913597   7.913597\n",
       "98 -4.486542  -3.524429  -3.524429\n",
       "99  4.182505  12.946759  12.946759\n",
       "\n",
       "[100 rows x 3 columns]"
      ]
     },
     "execution_count": 13,
     "metadata": {},
     "output_type": "execute_result"
    }
   ],
   "source": [
    "data"
   ]
  },
  {
   "cell_type": "code",
   "execution_count": 12,
   "metadata": {},
   "outputs": [
    {
     "data": {
      "text/plain": [
       "[<matplotlib.lines.Line2D at 0x7f16293aa850>]"
      ]
     },
     "execution_count": 12,
     "metadata": {},
     "output_type": "execute_result"
    },
    {
     "data": {
      "image/png": "[encoded data removed]",
      "text/plain": [
       "<Figure size 432x288 with 1 Axes>"
      ]
     },
     "metadata": {
      "needs_background": "light"
     },
     "output_type": "display_data"
    }
   ],
   "source": [
    "import matplotlib.pyplot as plt\n",
    "%matplotlib inline\n",
    "plt.plot(x,y_pred)\n",
    "plt.plot(x,y_act, \"ro\")\n",
    "\n"
   ]
  },
  {
   "cell_type": "code",
   "execution_count": null,
   "metadata": {},
   "outputs": [],
   "source": []
  }
 ],
 "metadata": {
  "kernelspec": {
   "display_name": "Python 3",
   "language": "python",
   "name": "python3"
  },
  "language_info": {
   "codemirror_mode": {
    "name": "ipython",
    "version": 3
   },
   "file_extension": ".py",
   "mimetype": "text/x-python",
   "name": "python",
   "nbconvert_exporter": "python",
   "pygments_lexer": "ipython3",
   "version": "3.7.6"
  }
 },
 "nbformat": 4,
 "nbformat_minor": 4
}
